{
 "cells": [
  {
   "cell_type": "markdown",
   "id": "455f6277",
   "metadata": {},
   "source": [
    "# List Methods\n"
   ]
  },
  {
   "cell_type": "markdown",
   "id": "cdc0e0e2",
   "metadata": {},
   "source": [
    "## list.sort()\n",
    "This method sorts the list in ascending order. The original list is updated "
   ]
  },
  {
   "cell_type": "code",
   "execution_count": 1,
   "id": "5ca5d1df",
   "metadata": {},
   "outputs": [
    {
     "name": "stdout",
     "output_type": "stream",
     "text": [
      "['blue', 'green', 'indigo', 'voilet']\n",
      "[1, 1, 2, 2, 2, 3, 4, 5, 6, 7, 8, 9]\n"
     ]
    }
   ],
   "source": [
    "colors = [\"voilet\", \"indigo\", \"blue\", \"green\"]\n",
    "colors.sort()\n",
    "print(colors)\n",
    "\n",
    "num = [4,2,5,3,6,1,2,1,2,8,9,7]\n",
    "num.sort()\n",
    "print(num)"
   ]
  },
  {
   "cell_type": "code",
   "execution_count": 4,
   "id": "7953ce5b",
   "metadata": {},
   "outputs": [],
   "source": [
    "ages = [14 , 34 , 18  , 77 , 21 , 27]\n",
    "ages.sort()"
   ]
  },
  {
   "cell_type": "code",
   "execution_count": 5,
   "id": "d88da954",
   "metadata": {},
   "outputs": [
    {
     "name": "stdout",
     "output_type": "stream",
     "text": [
      "[14, 18, 21, 27, 34, 77]\n"
     ]
    }
   ],
   "source": [
    "print(ages)"
   ]
  },
  {
   "cell_type": "markdown",
   "id": "0008fbbe",
   "metadata": {},
   "source": [
    "What if you want to print the list in descending order?\n",
    "We must give reverse=True as a parameter in the sort method."
   ]
  },
  {
   "cell_type": "code",
   "execution_count": 6,
   "id": "0ce57f26",
   "metadata": {},
   "outputs": [
    {
     "name": "stdout",
     "output_type": "stream",
     "text": [
      "['voilet', 'indigo', 'green', 'blue']\n"
     ]
    }
   ],
   "source": [
    "colors = [\"voilet\", \"indigo\", \"blue\", \"green\"]\n",
    "colors.sort(reverse=True)\n",
    "print(colors)"
   ]
  },
  {
   "cell_type": "code",
   "execution_count": 7,
   "id": "5f469b6e",
   "metadata": {},
   "outputs": [
    {
     "name": "stdout",
     "output_type": "stream",
     "text": [
      "[77, 34, 27, 21, 18, 14]\n"
     ]
    }
   ],
   "source": [
    "ages.sort(reverse = True)\n",
    "print(ages)"
   ]
  },
  {
   "cell_type": "markdown",
   "id": "870e3724",
   "metadata": {},
   "source": [
    "The reverse parameter is set to False by default.\n",
    "\n",
    "Note: Do not mistake the reverse parameter with the reverse method."
   ]
  },
  {
   "cell_type": "markdown",
   "id": "c328a2a8",
   "metadata": {},
   "source": [
    "# reverse()\n",
    "This method reverses the order of the list.\n",
    " "
   ]
  },
  {
   "cell_type": "code",
   "execution_count": 8,
   "id": "7f6b85d5",
   "metadata": {},
   "outputs": [
    {
     "name": "stdout",
     "output_type": "stream",
     "text": [
      "['green', 'blue', 'indigo', 'voilet']\n",
      "[7, 9, 8, 2, 1, 2, 1, 6, 3, 5, 2, 4]\n"
     ]
    }
   ],
   "source": [
    "colors = [\"voilet\", \"indigo\", \"blue\", \"green\"]\n",
    "colors.reverse()\n",
    "print(colors)\n",
    "num = [4,2,5,3,6,1,2,1,2,8,9,7]\n",
    "num.reverse()\n",
    "print(num)"
   ]
  },
  {
   "cell_type": "markdown",
   "id": "5752a2cb",
   "metadata": {},
   "source": [
    "## index()\n"
   ]
  },
  {
   "cell_type": "markdown",
   "id": "074cfc14",
   "metadata": {},
   "source": [
    "This method returns the index of the first occurrence of the list item.\n"
   ]
  },
  {
   "cell_type": "code",
   "execution_count": 10,
   "id": "0e7fb4a5",
   "metadata": {},
   "outputs": [
    {
     "name": "stdout",
     "output_type": "stream",
     "text": [
      "1\n",
      "3\n"
     ]
    }
   ],
   "source": [
    "colors = [\"voilet\", \"green\", \"indigo\", \"blue\", \"green\"]\n",
    "print(colors.index(\"green\"))\n",
    "num = [4,2,5,3,6,1,2,1,3,2,8,9,7]\n",
    "print(num.index(3))"
   ]
  },
  {
   "cell_type": "markdown",
   "id": "f4b67038",
   "metadata": {},
   "source": [
    "## Before Copy Method "
   ]
  },
  {
   "cell_type": "code",
   "execution_count": 11,
   "id": "2461c359",
   "metadata": {},
   "outputs": [
    {
     "name": "stdout",
     "output_type": "stream",
     "text": [
      "[45, 2, 3, 4, 5]\n",
      "[45, 2, 3, 4, 5]\n"
     ]
    }
   ],
   "source": [
    "b = [1,2,3,4,5]\n",
    "c = b\n",
    "b[0] = 45\n",
    "print(b)\n",
    "print(c)"
   ]
  },
  {
   "cell_type": "markdown",
   "id": "d6fe3b25",
   "metadata": {},
   "source": [
    "## copy()\n",
    "Returns copy of the list. This can be done to perform operations on the list without modifying the original list.\n"
   ]
  },
  {
   "cell_type": "code",
   "execution_count": 12,
   "id": "f1419973",
   "metadata": {},
   "outputs": [
    {
     "name": "stdout",
     "output_type": "stream",
     "text": [
      "['voilet', 'green', 'indigo', 'blue']\n",
      "['voilet', 'green', 'indigo', 'blue']\n"
     ]
    }
   ],
   "source": [
    "colors = [\"voilet\", \"green\", \"indigo\", \"blue\"]\n",
    "newlist = colors.copy()\n",
    "print(colors)\n",
    "print(newlist)"
   ]
  },
  {
   "cell_type": "markdown",
   "id": "7a1bdc00",
   "metadata": {},
   "source": [
    "##  append()"
   ]
  },
  {
   "cell_type": "code",
   "execution_count": 13,
   "id": "ed19872f",
   "metadata": {},
   "outputs": [
    {
     "name": "stdout",
     "output_type": "stream",
     "text": [
      "['voilet', 'indigo', 'blue', 'green']\n"
     ]
    }
   ],
   "source": [
    "colors = [\"voilet\", \"indigo\", \"blue\"]\n",
    "colors.append(\"green\")\n",
    "print(colors)"
   ]
  },
  {
   "cell_type": "markdown",
   "id": "5f60a9de",
   "metadata": {},
   "source": [
    "## insert():\n",
    "This method inserts an item at the given index. User has to specify index and the item to be inserted within the insert() method. "
   ]
  },
  {
   "cell_type": "code",
   "execution_count": 14,
   "id": "76fb2f20",
   "metadata": {},
   "outputs": [
    {
     "name": "stdout",
     "output_type": "stream",
     "text": [
      "['voilet', 'green', 'indigo', 'blue']\n"
     ]
    }
   ],
   "source": [
    "colors = [\"voilet\", \"indigo\", \"blue\"]\n",
    "#           [0]        [1]      [2]\n",
    "\n",
    "colors.insert(1, \"green\")   #inserts item at index 1\n",
    "# updated list: colors = [\"voilet\", \"green\", \"indigo\", \"blue\"]\n",
    "#       indexs              [0]       [1]       [2]      [3]\n",
    "\n",
    "print(colors)"
   ]
  },
  {
   "cell_type": "markdown",
   "id": "38bad96e",
   "metadata": {},
   "source": [
    "## extend():\n",
    "This method adds an entire list or any other collection datatype (set, tuple, dictionary) to the existing list. "
   ]
  },
  {
   "cell_type": "code",
   "execution_count": 15,
   "id": "36a09b33",
   "metadata": {},
   "outputs": [
    {
     "name": "stdout",
     "output_type": "stream",
     "text": [
      "['voilet', 'indigo', 'blue', 'green', 'yellow', 'orange', 'red']\n"
     ]
    }
   ],
   "source": [
    "#add a list to a list\n",
    "colors = [\"voilet\", \"indigo\", \"blue\"]\n",
    "rainbow = [\"green\", \"yellow\", \"orange\", \"red\"]\n",
    "colors.extend(rainbow)\n",
    "print(colors)"
   ]
  },
  {
   "cell_type": "markdown",
   "id": "f26ebcf0",
   "metadata": {},
   "source": [
    "## Concatenating two lists:\n",
    " "
   ]
  }
 ],
 "metadata": {
  "kernelspec": {
   "display_name": "Python 3 (ipykernel)",
   "language": "python",
   "name": "python3"
  },
  "language_info": {
   "codemirror_mode": {
    "name": "ipython",
    "version": 3
   },
   "file_extension": ".py",
   "mimetype": "text/x-python",
   "name": "python",
   "nbconvert_exporter": "python",
   "pygments_lexer": "ipython3",
   "version": "3.9.13"
  }
 },
 "nbformat": 4,
 "nbformat_minor": 5
}
