{
 "cells": [
  {
   "cell_type": "markdown",
   "id": "11264822",
   "metadata": {},
   "source": [
    "# Python Functions\n",
    "A function is a block of code that performs a specific task whenever it is called. In bigger programs, where we have large amounts of code, it is advisable to create or use existing functions that make the program flow organized and neat.\n",
    "\n",
    "There are two types of functions:\n",
    "\n",
    "1.Built-in functions\n",
    "\n",
    "2.User-defined functions\n",
    "\n",
    "## Built-in functions:\n",
    "\n",
    "These functions are defined and pre-coded in python. Some examples of built-in functions are as follows:\n",
    "\n",
    "min(), max(), len(), sum(), type(), range(), dict(), list(), tuple(), set(), print(), etc.\n",
    "\n",
    "## User-defined functions:\n",
    "We can create functions to perform specific tasks as per our needs. Such functions are called user-defined functions.\n",
    "\n",
    "\n"
   ]
  },
  {
   "cell_type": "markdown",
   "id": "fb97c315",
   "metadata": {},
   "source": [
    "Create a function using the def keyword, followed by a function name, followed by a paranthesis (()) and a colon(:).\n",
    "\n",
    "\n",
    "Any parameters and arguments should be placed within the parentheses.\n",
    "\n",
    "\n",
    "Rules to naming function are similar to that of naming variables.\n",
    "\n",
    "\n",
    "Any statements and other code within the function should be indented."
   ]
  },
  {
   "cell_type": "markdown",
   "id": "1ca6b514",
   "metadata": {},
   "source": [
    "## Calling a function:\n",
    "We call a function by giving the function name, followed by parameters (if any) in the parenthesis"
   ]
  },
  {
   "cell_type": "code",
   "execution_count": 1,
   "id": "58ecce1e",
   "metadata": {},
   "outputs": [
    {
     "name": "stdout",
     "output_type": "stream",
     "text": [
      "Hello, Sam Wilson\n"
     ]
    }
   ],
   "source": [
    "def name(fname, lname):\n",
    "    print(\"Hello,\", fname, lname)\n",
    "\n",
    "name(\"Sam\", \"Wilson\")"
   ]
  },
  {
   "cell_type": "code",
   "execution_count": 1,
   "id": "6fb4367f",
   "metadata": {},
   "outputs": [
    {
     "name": "stdout",
     "output_type": "stream",
     "text": [
      "9.0\n"
     ]
    }
   ],
   "source": [
    "# Without Function\n",
    "\n",
    "\n",
    "# Finding average\n",
    "\n",
    "a = 6\n",
    "b = 12\n",
    "\n",
    "avg = (a+b)/2\n",
    "\n",
    "print(avg)\n",
    "\n",
    "\n"
   ]
  },
  {
   "cell_type": "code",
   "execution_count": 2,
   "id": "a04c3f34",
   "metadata": {},
   "outputs": [
    {
     "name": "stdout",
     "output_type": "stream",
     "text": [
      "19.5\n"
     ]
    }
   ],
   "source": [
    "c = 14\n",
    "d = 25\n",
    "\n",
    "avg = (c+d)/2\n",
    "\n",
    "print(avg)"
   ]
  },
  {
   "cell_type": "code",
   "execution_count": 5,
   "id": "bd0d1e89",
   "metadata": {},
   "outputs": [
    {
     "name": "stdout",
     "output_type": "stream",
     "text": [
      "9.0\n",
      "19.5\n"
     ]
    }
   ],
   "source": [
    "# With Function\n",
    "\n",
    "\n",
    "def finding_avg(a,b):\n",
    "    \n",
    "    avg = (a+b)/2\n",
    "    print(avg)\n",
    "    \n",
    "    \n",
    "    \n",
    "finding_avg(6,12)\n",
    "finding_avg(14,25)"
   ]
  },
  {
   "cell_type": "code",
   "execution_count": null,
   "id": "22321932",
   "metadata": {},
   "outputs": [],
   "source": []
  },
  {
   "cell_type": "code",
   "execution_count": null,
   "id": "d66a4bf5",
   "metadata": {},
   "outputs": [],
   "source": []
  },
  {
   "cell_type": "code",
   "execution_count": null,
   "id": "8f9cb12c",
   "metadata": {},
   "outputs": [],
   "source": []
  },
  {
   "cell_type": "code",
   "execution_count": null,
   "id": "ea062e30",
   "metadata": {},
   "outputs": [],
   "source": []
  },
  {
   "cell_type": "code",
   "execution_count": null,
   "id": "53ac9ff5",
   "metadata": {},
   "outputs": [],
   "source": []
  },
  {
   "cell_type": "code",
   "execution_count": null,
   "id": "b83db44e",
   "metadata": {},
   "outputs": [],
   "source": []
  },
  {
   "cell_type": "code",
   "execution_count": null,
   "id": "c84d4b1d",
   "metadata": {},
   "outputs": [],
   "source": []
  }
 ],
 "metadata": {
  "kernelspec": {
   "display_name": "Python 3 (ipykernel)",
   "language": "python",
   "name": "python3"
  },
  "language_info": {
   "codemirror_mode": {
    "name": "ipython",
    "version": 3
   },
   "file_extension": ".py",
   "mimetype": "text/x-python",
   "name": "python",
   "nbconvert_exporter": "python",
   "pygments_lexer": "ipython3",
   "version": "3.9.13"
  }
 },
 "nbformat": 4,
 "nbformat_minor": 5
}
