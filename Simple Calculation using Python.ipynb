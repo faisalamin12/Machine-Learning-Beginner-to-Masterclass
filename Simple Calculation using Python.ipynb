{
 "cells": [
  {
   "cell_type": "code",
   "execution_count": 5,
   "id": "882126ae",
   "metadata": {},
   "outputs": [
    {
     "name": "stdout",
     "output_type": "stream",
     "text": [
      "Enter first number: 6\n",
      "Enter second number: 3\n",
      "The addition of  6 and 3 is  9\n",
      "The subtraction of  6 and 3 is  3\n",
      "The multiplication of  6 and 3 is  18\n",
      "The division of  6 and 3 is  2.0\n",
      "The float division of  6 and 3 is  2\n",
      "The remainder of  6 and 3 is  0\n"
     ]
    }
   ],
   "source": [
    "num1 = int(input(\"Enter first number: \"))\n",
    "num2 = int(input(\"Enter second number: \"))\n",
    "\n",
    "print(\"The addition of \" , num1 , \"and\" , num2 , \"is \" , num1+num2)\n",
    "print(\"The subtraction of \" , num1 , \"and\" , num2 , \"is \" , num1-num2)\n",
    "print(\"The multiplication of \" , num1 , \"and\" , num2 , \"is \" , num1*num2)\n",
    "print(\"The division of \" , num1 , \"and\" , num2 , \"is \" , num1/num2)\n",
    "print(\"The float division of \" , num1 , \"and\" , num2 , \"is \" , num1//num2) #Float division divide two numbers but remove the decimal\n",
    "                                                                       #points \n",
    "\n",
    "print(\"The remainder of \" , num1 , \"and\" , num2 , \"is \" , num1%num2)       # \"%\" This is modulus operator which return the Remainder "
   ]
  },
  {
   "cell_type": "code",
   "execution_count": null,
   "id": "7e326763",
   "metadata": {},
   "outputs": [],
   "source": []
  }
 ],
 "metadata": {
  "kernelspec": {
   "display_name": "Python 3 (ipykernel)",
   "language": "python",
   "name": "python3"
  },
  "language_info": {
   "codemirror_mode": {
    "name": "ipython",
    "version": 3
   },
   "file_extension": ".py",
   "mimetype": "text/x-python",
   "name": "python",
   "nbconvert_exporter": "python",
   "pygments_lexer": "ipython3",
   "version": "3.9.13"
  }
 },
 "nbformat": 4,
 "nbformat_minor": 5
}
